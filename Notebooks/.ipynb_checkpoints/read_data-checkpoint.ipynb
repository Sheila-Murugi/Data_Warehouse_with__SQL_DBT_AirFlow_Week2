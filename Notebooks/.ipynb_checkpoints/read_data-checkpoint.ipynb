{
 "cells": [
  {
   "cell_type": "code",
   "execution_count": 5,
   "metadata": {},
   "outputs": [],
   "source": [
    "import pandas as pd"
   ]
  },
  {
   "cell_type": "markdown",
   "metadata": {},
   "source": [
    "## Data: How is the .csv organized?\n",
    "\n",
    "For each .csv file the following apply:\n",
    "* each row represents the data of a single vehicle\n",
    "* the first 10 columns in the 1st row include the columns’ names\n",
    "* the first 4 columns include information about the trajectory like the unique trackID, the type of vehicle, the distance traveled in meters and the average speed of the vehicle in km/h\n",
    "* the last 6 columns are then repeated every 6 columns based on the time frequency. For example, column_5 contains the latitude of the vehicle at time column_10, and column­­­_11 contains the latitude of the vehicle at time column_16.\n",
    "* Speed is in km/h, Longitudinal and Lateral Acceleration in m/sec2 and time in seconds."
   ]
  },
  {
   "cell_type": "code",
   "execution_count": 8,
   "metadata": {},
   "outputs": [],
   "source": [
    "with open(\"../Week_2/20181101_d1_0800_0830.csv\", 'r') as file:\n",
    "    lines = file.readlines()"
   ]
  },
  {
   "cell_type": "code",
   "execution_count": 9,
   "metadata": {},
   "outputs": [
    {
     "name": "stdout",
     "output_type": "stream",
     "text": [
      "The number of rows/lines is 786\n"
     ]
    }
   ],
   "source": [
    "print(f\"The number of rows/lines is {len(lines)}\")"
   ]
  },
  {
   "cell_type": "code",
   "execution_count": 10,
   "metadata": {},
   "outputs": [
    {
     "name": "stdout",
     "output_type": "stream",
     "text": [
      "track_id; type; traveled_d; avg_speed; lat; lon; speed; lon_acc; lat_acc; time\n",
      "\n",
      "['track_id', ' type', ' traveled_d', ' avg_speed', ' lat', ' lon', ' speed', ' lon_acc', ' lat_acc', ' time']\n"
     ]
    }
   ],
   "source": [
    "print(lines[0]) # column names\n",
    "print(lines[0].strip('\\n').strip().strip(';').split(';')) # columns names as a list"
   ]
  },
  {
   "cell_type": "code",
   "execution_count": 11,
   "metadata": {},
   "outputs": [
    {
     "data": {
      "text/plain": [
       "786"
      ]
     },
     "execution_count": 11,
     "metadata": {},
     "output_type": "execute_result"
    }
   ],
   "source": [
    "lines_as_lists = [line.strip('\\n').strip().strip(';').split(';') for line in lines]\n",
    "len(lines_as_lists)"
   ]
  },
  {
   "cell_type": "code",
   "execution_count": 12,
   "metadata": {},
   "outputs": [
    {
     "name": "stdout",
     "output_type": "stream",
     "text": [
      "the number of fields in row 1 is 3310, row 2 is 550\n"
     ]
    }
   ],
   "source": [
    "print(f\"the number of fields in row 1 is {len(lines_as_lists[1])}, row 2 is {len(lines_as_lists[2])}\")"
   ]
  },
  {
   "cell_type": "markdown",
   "metadata": {},
   "source": [
    "The number of fields in each row is = 4 + 6 * n\n",
    "\n",
    "* The first 4 unique values are: track_id; type; traveled_d; avg_speed\n",
    "* The remaining fields are repeated sequences of: \n",
    "  * lat_1; lon_1; speed_1; lon_acc_1; lat_acc_1; time_1\n",
    "  * lat_2; lon_2; speed_2; lon_acc_2; lat_acc_2; time_2\n",
    "  * ...\n",
    "  * lat_n; lon_n; speed_n; lon_acc_n; lat_acc_n; time_n\n",
    "\n",
    "* n depends on the time frequency. It is different for each row.\n"
   ]
  },
  {
   "cell_type": "code",
   "execution_count": 13,
   "metadata": {},
   "outputs": [
    {
     "name": "stdout",
     "output_type": "stream",
     "text": [
      "the maximum number of fields is 121810\n",
      "the largest n = 20301\n"
     ]
    }
   ],
   "source": [
    "no_field_max = 0\n",
    "\n",
    "for row in lines_as_lists:\n",
    "    if len(row) > no_field_max:\n",
    "        no_field_max = len(row)\n",
    "\n",
    "print(f\"the maximum number of fields is {no_field_max}\")\n",
    "largest_n = int((no_field_max-4)/6)\n",
    "print(f\"the largest n = {largest_n}\")"
   ]
  },
  {
   "cell_type": "markdown",
   "metadata": {},
   "source": [
    "We can divide each row into 2 parts:\n",
    "1.  A list of the first 4 values. \n",
    "    - These will correspond to ['track_id', ' type', ' traveled_d', ' avg_speed']\n",
    "2.  A matrix of size 6*n of the remaining values. \n",
    "    - These will correspond to a table with columns [' lat', ' lon', ' speed', ' lon_acc', ' lat_acc', ' time'] and n rows.\n",
    "    - We will append the 'track_id' value to each row to keep track of the vehicle identity."
   ]
  },
  {
   "cell_type": "code",
   "execution_count": 14,
   "metadata": {},
   "outputs": [],
   "source": [
    "cols = lines_as_lists.pop(0)"
   ]
  },
  {
   "cell_type": "code",
   "execution_count": 15,
   "metadata": {},
   "outputs": [
    {
     "name": "stdout",
     "output_type": "stream",
     "text": [
      "['track_id', ' type', ' traveled_d', ' avg_speed']\n",
      "['track_id', ' lat', ' lon', ' speed', ' lon_acc', ' lat_acc', ' time']\n"
     ]
    }
   ],
   "source": [
    "track_cols = cols[:4]\n",
    "trajectory_cols = ['track_id'] + cols[4:]\n",
    "\n",
    "print(track_cols)\n",
    "print(trajectory_cols)\n"
   ]
  },
  {
   "cell_type": "code",
   "execution_count": 16,
   "metadata": {},
   "outputs": [],
   "source": [
    "track_info = []\n",
    "trajectory_info = []\n",
    "\n",
    "for row in lines_as_lists:\n",
    "    track_id = row[0]\n",
    "\n",
    "    # add the first 4 values to track_info\n",
    "    track_info.append(row[:4]) \n",
    "\n",
    "    remaining_values = row[4:]\n",
    "    # reshape the list into a matrix and add track_id\n",
    "    trajectory_matrix = [ [track_id] + remaining_values[i:i+6] for i in range(0,len(remaining_values),6)]\n",
    "    # add the matrix rows to trajectory_info\n",
    "    trajectory_info = trajectory_info + trajectory_matrix\n"
   ]
  },
  {
   "cell_type": "code",
   "execution_count": 17,
   "metadata": {},
   "outputs": [
    {
     "data": {
      "text/html": [
       "<div>\n",
       "<style scoped>\n",
       "    .dataframe tbody tr th:only-of-type {\n",
       "        vertical-align: middle;\n",
       "    }\n",
       "\n",
       "    .dataframe tbody tr th {\n",
       "        vertical-align: top;\n",
       "    }\n",
       "\n",
       "    .dataframe thead th {\n",
       "        text-align: right;\n",
       "    }\n",
       "</style>\n",
       "<table border=\"1\" class=\"dataframe\">\n",
       "  <thead>\n",
       "    <tr style=\"text-align: right;\">\n",
       "      <th></th>\n",
       "      <th>track_id</th>\n",
       "      <th>type</th>\n",
       "      <th>traveled_d</th>\n",
       "      <th>avg_speed</th>\n",
       "    </tr>\n",
       "  </thead>\n",
       "  <tbody>\n",
       "    <tr>\n",
       "      <th>0</th>\n",
       "      <td>1</td>\n",
       "      <td>Motorcycle</td>\n",
       "      <td>107.61</td>\n",
       "      <td>17.608581</td>\n",
       "    </tr>\n",
       "    <tr>\n",
       "      <th>1</th>\n",
       "      <td>2</td>\n",
       "      <td>Car</td>\n",
       "      <td>20.82</td>\n",
       "      <td>20.820484</td>\n",
       "    </tr>\n",
       "    <tr>\n",
       "      <th>2</th>\n",
       "      <td>3</td>\n",
       "      <td>Car</td>\n",
       "      <td>66.16</td>\n",
       "      <td>13.380815</td>\n",
       "    </tr>\n",
       "    <tr>\n",
       "      <th>3</th>\n",
       "      <td>4</td>\n",
       "      <td>Motorcycle</td>\n",
       "      <td>9.36</td>\n",
       "      <td>33.685504</td>\n",
       "    </tr>\n",
       "    <tr>\n",
       "      <th>4</th>\n",
       "      <td>5</td>\n",
       "      <td>Motorcycle</td>\n",
       "      <td>38.18</td>\n",
       "      <td>31.240518</td>\n",
       "    </tr>\n",
       "  </tbody>\n",
       "</table>\n",
       "</div>"
      ],
      "text/plain": [
       "  track_id         type  traveled_d   avg_speed\n",
       "0        1   Motorcycle      107.61   17.608581\n",
       "1        2          Car       20.82   20.820484\n",
       "2        3          Car       66.16   13.380815\n",
       "3        4   Motorcycle        9.36   33.685504\n",
       "4        5   Motorcycle       38.18   31.240518"
      ]
     },
     "execution_count": 17,
     "metadata": {},
     "output_type": "execute_result"
    }
   ],
   "source": [
    "df_vehicle = pd.DataFrame(data= track_info,columns=track_cols)\n",
    "\n",
    "df_vehicle.head()"
   ]
  },
  {
   "cell_type": "code",
   "execution_count": 18,
   "metadata": {},
   "outputs": [
    {
     "name": "stdout",
     "output_type": "stream",
     "text": [
      "Percentage of missing values in each column:\n",
      "track_id       0.0\n",
      " type          0.0\n",
      " traveled_d    0.0\n",
      " avg_speed     0.0\n",
      "dtype: float64\n"
     ]
    }
   ],
   "source": [
    "#Finding the % of missing values in each column\n",
    "# Step 1: Create a boolean mask for missing values\n",
    "missing_values_mask = df_vehicle.isna()\n",
    "\n",
    "# Step 2: Count the number of missing values in each column\n",
    "missing_values_count = missing_values_mask.sum()\n",
    "\n",
    "# Step 3: Calculate the percentage of missing values\n",
    "total_rows = len(df_vehicle)\n",
    "missing_values_percentage = (missing_values_count / total_rows) * 100\n",
    "\n",
    "# Step 4: Print or display the results\n",
    "print(\"Percentage of missing values in each column:\")\n",
    "print (missing_values_percentage)"
   ]
  },
  {
   "cell_type": "code",
   "execution_count": 19,
   "metadata": {},
   "outputs": [
    {
     "data": {
      "text/html": [
       "<div>\n",
       "<style scoped>\n",
       "    .dataframe tbody tr th:only-of-type {\n",
       "        vertical-align: middle;\n",
       "    }\n",
       "\n",
       "    .dataframe tbody tr th {\n",
       "        vertical-align: top;\n",
       "    }\n",
       "\n",
       "    .dataframe thead th {\n",
       "        text-align: right;\n",
       "    }\n",
       "</style>\n",
       "<table border=\"1\" class=\"dataframe\">\n",
       "  <thead>\n",
       "    <tr style=\"text-align: right;\">\n",
       "      <th></th>\n",
       "      <th>track_id</th>\n",
       "      <th>lat</th>\n",
       "      <th>lon</th>\n",
       "      <th>speed</th>\n",
       "      <th>lon_acc</th>\n",
       "      <th>lat_acc</th>\n",
       "      <th>time</th>\n",
       "    </tr>\n",
       "  </thead>\n",
       "  <tbody>\n",
       "    <tr>\n",
       "      <th>0</th>\n",
       "      <td>1</td>\n",
       "      <td>37.977484</td>\n",
       "      <td>23.737106</td>\n",
       "      <td>13.4787</td>\n",
       "      <td>0.0466</td>\n",
       "      <td>-0.0660</td>\n",
       "      <td>38.400000</td>\n",
       "    </tr>\n",
       "    <tr>\n",
       "      <th>1</th>\n",
       "      <td>1</td>\n",
       "      <td>37.977484</td>\n",
       "      <td>23.737107</td>\n",
       "      <td>13.4811</td>\n",
       "      <td>0.0383</td>\n",
       "      <td>-0.0711</td>\n",
       "      <td>38.440000</td>\n",
       "    </tr>\n",
       "    <tr>\n",
       "      <th>2</th>\n",
       "      <td>1</td>\n",
       "      <td>37.977485</td>\n",
       "      <td>23.737109</td>\n",
       "      <td>13.4826</td>\n",
       "      <td>0.0329</td>\n",
       "      <td>-0.0761</td>\n",
       "      <td>38.480000</td>\n",
       "    </tr>\n",
       "    <tr>\n",
       "      <th>3</th>\n",
       "      <td>1</td>\n",
       "      <td>37.977485</td>\n",
       "      <td>23.737110</td>\n",
       "      <td>13.4836</td>\n",
       "      <td>0.0298</td>\n",
       "      <td>-0.0810</td>\n",
       "      <td>38.520000</td>\n",
       "    </tr>\n",
       "    <tr>\n",
       "      <th>4</th>\n",
       "      <td>1</td>\n",
       "      <td>37.977486</td>\n",
       "      <td>23.737112</td>\n",
       "      <td>13.4843</td>\n",
       "      <td>0.0247</td>\n",
       "      <td>-0.0860</td>\n",
       "      <td>38.560000</td>\n",
       "    </tr>\n",
       "  </tbody>\n",
       "</table>\n",
       "</div>"
      ],
      "text/plain": [
       "  track_id         lat         lon     speed  lon_acc   lat_acc        time\n",
       "0        1   37.977484   23.737106   13.4787   0.0466   -0.0660   38.400000\n",
       "1        1   37.977484   23.737107   13.4811   0.0383   -0.0711   38.440000\n",
       "2        1   37.977485   23.737109   13.4826   0.0329   -0.0761   38.480000\n",
       "3        1   37.977485   23.737110   13.4836   0.0298   -0.0810   38.520000\n",
       "4        1   37.977486   23.737112   13.4843   0.0247   -0.0860   38.560000"
      ]
     },
     "execution_count": 19,
     "metadata": {},
     "output_type": "execute_result"
    }
   ],
   "source": [
    "df_trajectory = pd.DataFrame(data= trajectory_info,columns=trajectory_cols)\n",
    "\n",
    "df_trajectory.head()"
   ]
  },
  {
   "cell_type": "code",
   "execution_count": 20,
   "metadata": {},
   "outputs": [
    {
     "name": "stdout",
     "output_type": "stream",
     "text": [
      "Percentage of missing values in each column:\n",
      "track_id    0.0\n",
      " lat        0.0\n",
      " lon        0.0\n",
      " speed      0.0\n",
      " lon_acc    0.0\n",
      " lat_acc    0.0\n",
      " time       0.0\n",
      "dtype: float64\n"
     ]
    }
   ],
   "source": [
    "#Finding the % of missing values in each column\n",
    "# Step 1: Create a boolean mask for missing values\n",
    "missing_values_mask = df_trajectory.isna()\n",
    "\n",
    "# Step 2: Count the number of missing values in each column\n",
    "missing_values_count = missing_values_mask.sum()\n",
    "\n",
    "# Step 3: Calculate the percentage of missing values\n",
    "total_rows = len(df_trajectory)\n",
    "missing_values_percentage = (missing_values_count / total_rows) * 100\n",
    "\n",
    "# Step 4: Print or display the results\n",
    "print(\"Percentage of missing values in each column:\")\n",
    "print (missing_values_percentage)"
   ]
  },
  {
   "cell_type": "code",
   "execution_count": 21,
   "metadata": {},
   "outputs": [
    {
     "data": {
      "text/plain": [
       "475"
      ]
     },
     "execution_count": 21,
     "metadata": {},
     "output_type": "execute_result"
    }
   ],
   "source": [
    "from sqlalchemy import create_engine\n",
    "import urllib.parse\n",
    "encoded_password = urllib.parse.quote(\"Sheila@49\")\n",
    "connection_params = {\n",
    "    \"host\": \"localhost\",\n",
    "    \"user\": \"postgres\",\n",
    "    \"password\": encoded_password,\n",
    "    \"port\": \"5432\",\n",
    "    \"database\": \"TrafficDWH\"\n",
    "}\n",
    "# Establish connection to the PostgreSQL database\n",
    "engine = create_engine(\n",
    "    f\"postgresql+psycopg2://{connection_params['user']}:{connection_params['password']}\"\n",
    "    f\"@{connection_params['host']}:{connection_params['port']}/{connection_params['database']}\"\n",
    ")\n",
    "# Load df1 into the PostgreSQL database\n",
    "df_vehicle.to_sql('Vehicle_Information', engine, if_exists='replace', index=False)\n",
    "\n",
    "# Load df2 into the PostgreSQL database\n",
    "df_trajectory.to_sql('Trajectory_Data', engine, if_exists='replace', index=False)\n",
    "\n",
    "\n",
    "\n"
   ]
  },
  {
   "cell_type": "code",
   "execution_count": 22,
   "metadata": {},
   "outputs": [
    {
     "data": {
      "text/plain": [
       "True"
      ]
     },
     "execution_count": 22,
     "metadata": {},
     "output_type": "execute_result"
    }
   ],
   "source": [
    "# check if every id (evry timed data) is included in the former dataframe\n",
    "\n",
    "df_vehicle.shape[0]==len(df_trajectory.track_id.unique())"
   ]
  },
  {
   "cell_type": "markdown",
   "metadata": {},
   "source": []
  }
 ],
 "metadata": {
  "kernelspec": {
   "display_name": "Python 3 (ipykernel)",
   "language": "python",
   "name": "python3"
  },
  "language_info": {
   "codemirror_mode": {
    "name": "ipython",
    "version": 3
   },
   "file_extension": ".py",
   "mimetype": "text/x-python",
   "name": "python",
   "nbconvert_exporter": "python",
   "pygments_lexer": "ipython3",
   "version": "3.11.4"
  }
 },
 "nbformat": 4,
 "nbformat_minor": 4
}
